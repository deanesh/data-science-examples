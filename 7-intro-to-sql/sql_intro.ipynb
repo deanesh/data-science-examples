{
 "cells": [
  {
   "cell_type": "markdown",
   "id": "0ce011ba",
   "metadata": {
    "vscode": {
     "languageId": "html"
    }
   },
   "source": [
    "#### 🧠 What Is SQL?\n",
    "\n",
    "**SQL** stands for **Structured Query Language**, and it's used to:\n",
    "\n",
    "* **Retrieve** data from databases\n",
    "* **Filter**, **aggregate**, and **sort** data\n",
    "* Perform **calculations**, **joins**, and **subqueries**\n",
    "---\n",
    "\n",
    "#### 1. **Getting Started with SQL**\n",
    "\n",
    "* Understand basic SQL structure: `SELECT`, `FROM`\n",
    "* Learn to select specific columns\n",
    "* View results of simple queries\n",
    "\n",
    "```sql\n",
    "SELECT name, population\n",
    "FROM world_population;\n",
    "```\n",
    "---\n",
    "\n",
    "#### 2. **SELECT, FROM, WHERE**\n",
    "\n",
    "* Filter rows using the `WHERE` clause\n",
    "* Use comparison operators like `=`, `>`, `<`, `LIKE`, `IN`\n",
    "\n",
    "```sql\n",
    "SELECT name\n",
    "FROM countries\n",
    "WHERE population > 100000000;\n",
    "```\n",
    "---\n",
    "\n",
    "#### 3. **GROUP BY, HAVING, COUNT**\n",
    "\n",
    "* Group rows using `GROUP BY`\n",
    "* Aggregate data using `COUNT()`, `SUM()`, `AVG()`\n",
    "* Filter grouped results with `HAVING`\n",
    "\n",
    "```sql\n",
    "SELECT continent, COUNT(*) AS country_count\n",
    "FROM countries\n",
    "GROUP BY continent\n",
    "HAVING COUNT(*) > 10;\n",
    "```\n",
    "---\n",
    "\n",
    "#### 4. **ORDER BY**\n",
    "\n",
    "* Sort results using `ORDER BY`\n",
    "* Use `ASC` (ascending) or `DESC` (descending)\n",
    "\n",
    "```sql\n",
    "SELECT name, population\n",
    "FROM countries\n",
    "ORDER BY population DESC;\n",
    "```\n",
    "\n",
    "---\n",
    "\n",
    "#### 5. **AS and WITH**\n",
    "\n",
    "* Use `AS` to rename columns or tables (aliasing)\n",
    "* Use `WITH` to write **temporary tables** (Common Table Expressions - CTEs)\n",
    "\n",
    "```sql\n",
    "WITH top_countries AS (\n",
    "    SELECT name, population\n",
    "    FROM countries\n",
    "    ORDER BY population DESC\n",
    "    LIMIT 5\n",
    ")\n",
    "SELECT *\n",
    "FROM top_countries;\n",
    "```\n",
    "---\n",
    "\n",
    "#### 6. **JOINs and UNIONs**\n",
    "\n",
    "* Combine data from multiple tables using:\n",
    "\n",
    "  * `INNER JOIN`\n",
    "  * `LEFT JOIN`\n",
    "  * `UNION`\n",
    "\n",
    "```sql\n",
    "SELECT employees.name, departments.name\n",
    "FROM employees\n",
    "INNER JOIN departments\n",
    "ON employees.dept_id = departments.id;\n",
    "```\n",
    "---\n",
    "\n",
    "#### 7. **Nested Queries and Subqueries**\n",
    "\n",
    "* Use **subqueries** inside `SELECT`, `FROM`, or `WHERE`\n",
    "* Useful for filtering based on aggregated or derived values\n",
    "\n",
    "```sql\n",
    "SELECT name\n",
    "FROM countries\n",
    "WHERE population > (\n",
    "    SELECT AVG(population)\n",
    "    FROM countries\n",
    ");\n",
    "```\n",
    "---\n",
    "#### ✅ Skills You'll Gain\n",
    "\n",
    "* Query and explore large datasets\n",
    "* Perform aggregations and calculate statistics\n",
    "* Join multiple tables\n",
    "* Use subqueries and CTEs for complex queries\n",
    "\n",
    "\n"
   ]
  },
  {
   "cell_type": "markdown",
   "id": "c5993ebd",
   "metadata": {},
   "source": []
  },
  {
   "cell_type": "markdown",
   "id": "5180edbd",
   "metadata": {
    "vscode": {
     "languageId": "sql"
    }
   },
   "source": [
    "* **WITH Example (CTE - Common Table Expressions)**\n",
    "```sql\n",
    "WITH top_countries  AS (\n",
    "    select name, population, gdp \n",
    "    from countries \n",
    "    order by gdp desc \n",
    "    limit 5\n",
    ")\n",
    "select * from top_countries\n",
    "```"
   ]
  },
  {
   "cell_type": "markdown",
   "id": "5a8bc6f2",
   "metadata": {},
   "source": [
    "* **Sub Query Example**\n",
    "```sql\n",
    "select name, population from country where gdp in (select distinct(gdp) from country order by gdp desc limit 5 )\n",
    "```\n"
   ]
  },
  {
   "cell_type": "markdown",
   "id": "2cbf9f1f",
   "metadata": {},
   "source": [
    "```sql\n",
    "select student.name, school.name from student, school where student.id = school.id\n",
    "select student.name, school.name from student inner join school on student.id = school.id\n",
    "```"
   ]
  },
  {
   "cell_type": "markdown",
   "id": "45db0aaf",
   "metadata": {},
   "source": [
    "```sql\n",
    "select total_marks, count(*) as pass_count \n",
    "from student\n",
    "group by total_marks\n",
    "having total_marks > 300\n",
    "```\n",
    "```sql\n",
    "select ename, salary, dept_id, count(*) as high_salary_count \n",
    "from dept\n",
    "group by ename, salary, dept_id\n",
    "having salary > 30000\n",
    "```"
   ]
  }
 ],
 "metadata": {
  "kernelspec": {
   "display_name": "data-science-examples",
   "language": "python",
   "name": "python3"
  },
  "language_info": {
   "codemirror_mode": {
    "name": "ipython",
    "version": 3
   },
   "file_extension": ".py",
   "mimetype": "text/x-python",
   "name": "python",
   "nbconvert_exporter": "python",
   "pygments_lexer": "ipython3",
   "version": "3.13.6"
  }
 },
 "nbformat": 4,
 "nbformat_minor": 5
}
