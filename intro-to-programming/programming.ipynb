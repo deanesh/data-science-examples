{
 "cells": [
  {
   "cell_type": "markdown",
   "id": "0ce011ba",
   "metadata": {
    "vscode": {
     "languageId": "html"
    }
   },
   "source": [
    "### 🧠 Course Basics - Python\n",
    "\n",
    "This course focuses on **Python programming**, the most commonly used language in data science. \n",
    "More about giving you the **fundamental programming skills** needed to move forward.\n",
    "\n",
    "#### Key Topics Covered:\n",
    "\n",
    "1. **Python Basics**\n",
    "\n",
    "* Variables and types\n",
    "* Arithmetic operations\n",
    "* Strings and printing\n",
    "* Comments and code clarity\n",
    "\n",
    "2. **Control Flow**\n",
    "\n",
    "* `if`, `elif`, `else` statements\n",
    "* Boolean logic (`and`, `or`, `not`)\n",
    "* Comparison operators\n",
    "\n",
    "3. **Functions and Loops**\n",
    "\n",
    "* Writing and using functions\n",
    "* `for` and `while` loops\n",
    "* `range()` and `enumerate()`\n",
    "\n",
    "4. **Data Structures**\n",
    "\n",
    "* Lists\n",
    "* Tuples\n",
    "* Dictionaries\n",
    "\n",
    "5. **Using Libraries**\n",
    "\n",
    "* Brief intro to using libraries like `math`\n",
    "* How to import and use external code\n",
    "\n",
    "6. **Debugging and Best Practices**\n",
    "\n",
    "* Common errors and how to fix them\n",
    "* Writing readable and maintainable code\n",
    "\n",
    "---\n"
   ]
  },
  {
   "cell_type": "markdown",
   "id": "c5993ebd",
   "metadata": {},
   "source": []
  }
 ],
 "metadata": {
  "kernelspec": {
   "display_name": "data-science-examples",
   "language": "python",
   "name": "python3"
  },
  "language_info": {
   "codemirror_mode": {
    "name": "ipython",
    "version": 3
   },
   "file_extension": ".py",
   "mimetype": "text/x-python",
   "name": "python",
   "nbconvert_exporter": "python",
   "pygments_lexer": "ipython3",
   "version": "3.13.6"
  }
 },
 "nbformat": 4,
 "nbformat_minor": 5
}
