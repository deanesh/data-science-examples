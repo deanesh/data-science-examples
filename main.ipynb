{
 "cells": [
  {
   "cell_type": "markdown",
   "id": "35b52989",
   "metadata": {},
   "source": [
    "#### Path: E:\\Git-Repos\\data-science-examples\n",
    "*\tExplain DS: Intro to Programming\n",
    "*\tExplain DS: Intro to Machine Learning\n",
    "*\tExplain DS: Pandas\n",
    "*\tExplain DS: Intermediate Machine Learning\n",
    "*\tExplain DS: Data Visualization\n",
    "*\tExplain DS: Feature Engineering\n",
    "*\tExplain DS: Intro to SQL\n",
    "*\tExplain DS: Advanced SQL\n",
    "*\tExplain DS: Intro to Deep Learning\n",
    "*\tExplain DS: Computer Vision\n",
    "*\tExplain DS: Time Series\n",
    "*\tExplain DS: Data Cleaning\n",
    "*\tExplain DS: Intro to AI Ethics\n",
    "*\tExplain DS: Geospatial Analysis\n",
    "*\tExplain DS: Machine Learning Explainability"
   ]
  },
  {
   "cell_type": "markdown",
   "id": "175782fa",
   "metadata": {},
   "source": []
  }
 ],
 "metadata": {
  "language_info": {
   "name": "python"
  }
 },
 "nbformat": 4,
 "nbformat_minor": 5
}
