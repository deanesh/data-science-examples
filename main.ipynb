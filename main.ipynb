{
 "cells": [
  {
   "cell_type": "markdown",
   "id": "35b52989",
   "metadata": {},
   "source": [
    "#### Path: E:\\Git-Repos\\data-science-examples"
   ]
  },
  {
   "cell_type": "markdown",
   "id": "175782fa",
   "metadata": {},
   "source": []
  }
 ],
 "metadata": {
  "language_info": {
   "name": "python"
  }
 },
 "nbformat": 4,
 "nbformat_minor": 5
}
