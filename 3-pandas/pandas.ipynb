{
 "cells": [
  {
   "cell_type": "markdown",
   "id": "0ac9a223",
   "metadata": {},
   "source": [
    "#### 🧠 What is pandas?\n",
    "\n",
    "**pandas** is a Python library used to:\n",
    "\n",
    "* Load, inspect, and clean data\n",
    "* Analyze and manipulate data tables\n",
    "* Handle missing values\n",
    "* Perform group operations and filtering\n",
    "\n",
    "It is widely used in data science, especially for **exploratory data analysis (EDA)**.\n",
    "\n",
    "---\n",
    "\n",
    "#### 📘 What You’ll Learn in the Kaggle Pandas Course\n",
    "\n",
    "#### 1. **Creating, Reading, and Writing Data**\n",
    "\n",
    "* Load data from CSV files using `pd.read_csv()`\n",
    "* View the data with `.head()` and `.info()`\n",
    "* Save data using `.to_csv()`\n",
    "\n",
    "```python\n",
    "import pandas as pd\n",
    "data = pd.read_csv(\"file.csv\")\n",
    "data.to_csv(\"new_file.csv\")\n",
    "```\n",
    "\n",
    "---\n",
    "\n",
    "#### 2. **DataFrame Basics**\n",
    "\n",
    "* What is a **DataFrame**? (It’s like a table in Excel)\n",
    "* Access columns: `data['column_name']`\n",
    "* Summary statistics: `.describe()`, `.mean()`, `.unique()`\n",
    "\n",
    "```python\n",
    "data['age'].mean()\n",
    "data['category'].unique()\n",
    "```\n",
    "\n",
    "---\n",
    "\n",
    "#### 3. **Indexing, Selecting, and Assigning**\n",
    "\n",
    "* Select rows using `.loc[]` and `.iloc[]`\n",
    "* Filter data with conditions\n",
    "* Add new columns\n",
    "\n",
    "```python\n",
    "# Select row by index\n",
    "data.loc[0]\n",
    "\n",
    "# Select row by position\n",
    "data.iloc[3]\n",
    "\n",
    "# Filter rows\n",
    "data[data['age'] > 30]\n",
    "\n",
    "# Add a new column\n",
    "data['age_in_10_years'] = data['age'] + 10\n",
    "```\n",
    "\n",
    "---\n",
    "\n",
    "#### 4. **Summary Functions and Maps**\n",
    "\n",
    "* Use `.value_counts()` and `.map()` for analysis\n",
    "* Apply functions to columns: `.apply()`\n",
    "\n",
    "```python\n",
    "data['income_bracket'] = data['income'].map(lambda x: 'High' if x > 50000 else 'Low')\n",
    "```\n",
    "\n",
    "---\n",
    "\n",
    "#### 5. **Grouping and Sorting**\n",
    "\n",
    "* Use `.groupby()` to group data and compute summaries\n",
    "* Sort with `.sort_values()`\n",
    "\n",
    "```python\n",
    "data.groupby('city')['price'].mean()\n",
    "data.sort_values('price', ascending=False)\n",
    "```\n",
    "\n",
    "---\n",
    "\n",
    "#### 6. **Data Types and Missing Values**\n",
    "\n",
    "* Check data types with `.dtypes`\n",
    "* Convert types using `.astype()`\n",
    "* Handle missing values with `.isnull()`, `.fillna()`, `.dropna()`\n",
    "\n",
    "```python\n",
    "data['age'].fillna(data['age'].mean(), inplace=True)\n",
    "data.dropna(subset=['income'], inplace=True)\n",
    "```\n",
    "\n",
    "---\n",
    "\n",
    "#### 7. **Renaming and Combining**\n",
    "\n",
    "* Rename columns: `.rename()`\n",
    "* Combine DataFrames: `pd.concat()`, `.merge()`\n",
    "\n",
    "```python\n",
    "data.rename(columns={'old_name': 'new_name'}, inplace=True)\n",
    "combined = pd.concat([df1, df2])\n",
    "```\n"
   ]
  },
  {
   "cell_type": "markdown",
   "id": "18d5cbc1",
   "metadata": {
    "vscode": {
     "languageId": "plaintext"
    }
   },
   "source": [
    "#### Practice"
   ]
  },
  {
   "cell_type": "code",
   "execution_count": 1,
   "id": "6d36abe9",
   "metadata": {},
   "outputs": [
    {
     "name": "stdout",
     "output_type": "stream",
     "text": [
      "Help on method map in module pandas.core.frame:\n",
      "\n",
      "map(func: 'PythonFuncType', na_action: 'str | None' = None, **kwargs) -> 'DataFrame' method of pandas.core.frame.DataFrame instance\n",
      "    Apply a function to a Dataframe elementwise.\n",
      "\n",
      "    .. versionadded:: 2.1.0\n",
      "\n",
      "       DataFrame.applymap was deprecated and renamed to DataFrame.map.\n",
      "\n",
      "    This method applies a function that accepts and returns a scalar\n",
      "    to every element of a DataFrame.\n",
      "\n",
      "    Parameters\n",
      "    ----------\n",
      "    func : callable\n",
      "        Python function, returns a single value from a single value.\n",
      "    na_action : {None, 'ignore'}, default None\n",
      "        If 'ignore', propagate NaN values, without passing them to func.\n",
      "    **kwargs\n",
      "        Additional keyword arguments to pass as keywords arguments to\n",
      "        `func`.\n",
      "\n",
      "    Returns\n",
      "    -------\n",
      "    DataFrame\n",
      "        Transformed DataFrame.\n",
      "\n",
      "    See Also\n",
      "    --------\n",
      "    DataFrame.apply : Apply a function along input axis of DataFrame.\n",
      "    DataFrame.replace: Replace values given in `to_replace` with `value`.\n",
      "    Series.map : Apply a function elementwise on a Series.\n",
      "\n",
      "    Examples\n",
      "    --------\n",
      "    >>> df = pd.DataFrame([[1, 2.12], [3.356, 4.567]])\n",
      "    >>> df\n",
      "           0      1\n",
      "    0  1.000  2.120\n",
      "    1  3.356  4.567\n",
      "\n",
      "    >>> df.map(lambda x: len(str(x)))\n",
      "       0  1\n",
      "    0  3  4\n",
      "    1  5  5\n",
      "\n",
      "    Like Series.map, NA values can be ignored:\n",
      "\n",
      "    >>> df_copy = df.copy()\n",
      "    >>> df_copy.iloc[0, 0] = pd.NA\n",
      "    >>> df_copy.map(lambda x: len(str(x)), na_action='ignore')\n",
      "         0  1\n",
      "    0  NaN  4\n",
      "    1  5.0  5\n",
      "\n",
      "    It is also possible to use `map` with functions that are not\n",
      "    `lambda` functions:\n",
      "\n",
      "    >>> df.map(round, ndigits=1)\n",
      "         0    1\n",
      "    0  1.0  2.1\n",
      "    1  3.4  4.6\n",
      "\n",
      "    Note that a vectorized version of `func` often exists, which will\n",
      "    be much faster. You could square each number elementwise.\n",
      "\n",
      "    >>> df.map(lambda x: x**2)\n",
      "               0          1\n",
      "    0   1.000000   4.494400\n",
      "    1  11.262736  20.857489\n",
      "\n",
      "    But it's better to avoid map in that case.\n",
      "\n",
      "    >>> df ** 2\n",
      "               0          1\n",
      "    0   1.000000   4.494400\n",
      "    1  11.262736  20.857489\n",
      "\n"
     ]
    }
   ],
   "source": [
    "import pandas as pd\n",
    "\n",
    "help(pd.DataFrame().map)"
   ]
  },
  {
   "cell_type": "code",
   "execution_count": 8,
   "id": "14545f34",
   "metadata": {},
   "outputs": [
    {
     "data": {
      "text/plain": [
       "Index(['1', '2'], dtype='object')"
      ]
     },
     "execution_count": 8,
     "metadata": {},
     "output_type": "execute_result"
    }
   ],
   "source": [
    "my_dict = {\"1\": [1, 2], \"2\": [\"1\", \"2\"]}\n",
    "df = pd.DataFrame(my_dict)\n",
    "df.columns"
   ]
  },
  {
   "cell_type": "code",
   "execution_count": 9,
   "id": "f34fbf77",
   "metadata": {},
   "outputs": [
    {
     "data": {
      "text/html": [
       "<div>\n",
       "<style scoped>\n",
       "    .dataframe tbody tr th:only-of-type {\n",
       "        vertical-align: middle;\n",
       "    }\n",
       "\n",
       "    .dataframe tbody tr th {\n",
       "        vertical-align: top;\n",
       "    }\n",
       "\n",
       "    .dataframe thead th {\n",
       "        text-align: right;\n",
       "    }\n",
       "</style>\n",
       "<table border=\"1\" class=\"dataframe\">\n",
       "  <thead>\n",
       "    <tr style=\"text-align: right;\">\n",
       "      <th></th>\n",
       "      <th>1</th>\n",
       "      <th>2</th>\n",
       "      <th>12</th>\n",
       "    </tr>\n",
       "  </thead>\n",
       "  <tbody>\n",
       "    <tr>\n",
       "      <th>0</th>\n",
       "      <td>1</td>\n",
       "      <td>1</td>\n",
       "      <td>1</td>\n",
       "    </tr>\n",
       "    <tr>\n",
       "      <th>1</th>\n",
       "      <td>2</td>\n",
       "      <td>2</td>\n",
       "      <td>2</td>\n",
       "    </tr>\n",
       "  </tbody>\n",
       "</table>\n",
       "</div>"
      ],
      "text/plain": [
       "   1  2 12\n",
       "0  1  1  1\n",
       "1  2  2  2"
      ]
     },
     "execution_count": 9,
     "metadata": {},
     "output_type": "execute_result"
    }
   ],
   "source": [
    "df[\"12\"] = df[\"1\"].map(lambda x: str(x))\n",
    "df"
   ]
  },
  {
   "cell_type": "code",
   "execution_count": 10,
   "id": "fa350857",
   "metadata": {},
   "outputs": [
    {
     "data": {
      "text/plain": [
       "1\n",
       "1    1\n",
       "2    1\n",
       "Name: count, dtype: int64"
      ]
     },
     "execution_count": 10,
     "metadata": {},
     "output_type": "execute_result"
    }
   ],
   "source": [
    "df[\"1\"].value_counts()"
   ]
  },
  {
   "cell_type": "code",
   "execution_count": 11,
   "id": "eef71a1d",
   "metadata": {},
   "outputs": [
    {
     "data": {
      "text/html": [
       "<div>\n",
       "<style scoped>\n",
       "    .dataframe tbody tr th:only-of-type {\n",
       "        vertical-align: middle;\n",
       "    }\n",
       "\n",
       "    .dataframe tbody tr th {\n",
       "        vertical-align: top;\n",
       "    }\n",
       "\n",
       "    .dataframe thead th {\n",
       "        text-align: right;\n",
       "    }\n",
       "</style>\n",
       "<table border=\"1\" class=\"dataframe\">\n",
       "  <thead>\n",
       "    <tr style=\"text-align: right;\">\n",
       "      <th></th>\n",
       "      <th>1</th>\n",
       "      <th>2</th>\n",
       "      <th>3</th>\n",
       "    </tr>\n",
       "  </thead>\n",
       "  <tbody>\n",
       "    <tr>\n",
       "      <th>0</th>\n",
       "      <td>1</td>\n",
       "      <td>1</td>\n",
       "      <td>1</td>\n",
       "    </tr>\n",
       "    <tr>\n",
       "      <th>1</th>\n",
       "      <td>2</td>\n",
       "      <td>2</td>\n",
       "      <td>2</td>\n",
       "    </tr>\n",
       "  </tbody>\n",
       "</table>\n",
       "</div>"
      ],
      "text/plain": [
       "   1  2  3\n",
       "0  1  1  1\n",
       "1  2  2  2"
      ]
     },
     "execution_count": 11,
     "metadata": {},
     "output_type": "execute_result"
    }
   ],
   "source": [
    "df.rename(columns={\"12\": \"3\"}, inplace=True)\n",
    "df"
   ]
  },
  {
   "cell_type": "code",
   "execution_count": 12,
   "id": "e4a77bfa",
   "metadata": {},
   "outputs": [],
   "source": [
    "df[\"3\"] = df[\"3\"].astype(int)"
   ]
  },
  {
   "cell_type": "code",
   "execution_count": 13,
   "id": "79ab5086",
   "metadata": {},
   "outputs": [
    {
     "data": {
      "text/plain": [
       "1     int64\n",
       "2    object\n",
       "3     int64\n",
       "dtype: object"
      ]
     },
     "execution_count": 13,
     "metadata": {},
     "output_type": "execute_result"
    }
   ],
   "source": [
    "df.dtypes"
   ]
  },
  {
   "cell_type": "code",
   "execution_count": 15,
   "id": "c76b4f6b",
   "metadata": {},
   "outputs": [
    {
     "data": {
      "text/plain": [
       "1    int64\n",
       "2    int64\n",
       "3    int64\n",
       "dtype: object"
      ]
     },
     "execution_count": 15,
     "metadata": {},
     "output_type": "execute_result"
    }
   ],
   "source": [
    "df = df.astype(int)\n",
    "df.dtypes"
   ]
  },
  {
   "cell_type": "code",
   "execution_count": null,
   "id": "16f7917d",
   "metadata": {},
   "outputs": [
    {
     "data": {
      "text/html": [
       "<div>\n",
       "<style scoped>\n",
       "    .dataframe tbody tr th:only-of-type {\n",
       "        vertical-align: middle;\n",
       "    }\n",
       "\n",
       "    .dataframe tbody tr th {\n",
       "        vertical-align: top;\n",
       "    }\n",
       "\n",
       "    .dataframe thead th {\n",
       "        text-align: right;\n",
       "    }\n",
       "</style>\n",
       "<table border=\"1\" class=\"dataframe\">\n",
       "  <thead>\n",
       "    <tr style=\"text-align: right;\">\n",
       "      <th></th>\n",
       "      <th>1</th>\n",
       "      <th>2</th>\n",
       "    </tr>\n",
       "  </thead>\n",
       "  <tbody>\n",
       "    <tr>\n",
       "      <th>0</th>\n",
       "      <td>1</td>\n",
       "      <td>1</td>\n",
       "    </tr>\n",
       "    <tr>\n",
       "      <th>1</th>\n",
       "      <td>2</td>\n",
       "      <td>2</td>\n",
       "    </tr>\n",
       "    <tr>\n",
       "      <th>0</th>\n",
       "      <td>1</td>\n",
       "      <td>1</td>\n",
       "    </tr>\n",
       "    <tr>\n",
       "      <th>1</th>\n",
       "      <td>2</td>\n",
       "      <td>2</td>\n",
       "    </tr>\n",
       "  </tbody>\n",
       "</table>\n",
       "</div>"
      ],
      "text/plain": [
       "   1  2\n",
       "0  1  1\n",
       "1  2  2\n",
       "0  1  1\n",
       "1  2  2"
      ]
     },
     "execution_count": 18,
     "metadata": {},
     "output_type": "execute_result"
    }
   ],
   "source": [
    "my_dict_1 = {\"1\": [1, 2], \"2\": [\"1\", \"2\"]}\n",
    "my_dict_2 = {\"1\": [1, 2], \"2\": [\"1\", \"2\"]}\n",
    "new_df = pd.concat([pd.DataFrame(my_dict_1), pd.DataFrame(my_dict_2)])\n",
    "new_df"
   ]
  },
  {
   "cell_type": "code",
   "execution_count": 19,
   "id": "11e083b5",
   "metadata": {},
   "outputs": [
    {
     "data": {
      "text/html": [
       "<div>\n",
       "<style scoped>\n",
       "    .dataframe tbody tr th:only-of-type {\n",
       "        vertical-align: middle;\n",
       "    }\n",
       "\n",
       "    .dataframe tbody tr th {\n",
       "        vertical-align: top;\n",
       "    }\n",
       "\n",
       "    .dataframe thead th {\n",
       "        text-align: right;\n",
       "    }\n",
       "</style>\n",
       "<table border=\"1\" class=\"dataframe\">\n",
       "  <thead>\n",
       "    <tr style=\"text-align: right;\">\n",
       "      <th></th>\n",
       "      <th>1_x</th>\n",
       "      <th>no</th>\n",
       "      <th>1_y</th>\n",
       "    </tr>\n",
       "  </thead>\n",
       "  <tbody>\n",
       "    <tr>\n",
       "      <th>0</th>\n",
       "      <td>1</td>\n",
       "      <td>1</td>\n",
       "      <td>1</td>\n",
       "    </tr>\n",
       "    <tr>\n",
       "      <th>1</th>\n",
       "      <td>2</td>\n",
       "      <td>2</td>\n",
       "      <td>2</td>\n",
       "    </tr>\n",
       "  </tbody>\n",
       "</table>\n",
       "</div>"
      ],
      "text/plain": [
       "   1_x no  1_y\n",
       "0    1  1    1\n",
       "1    2  2    2"
      ]
     },
     "execution_count": 19,
     "metadata": {},
     "output_type": "execute_result"
    }
   ],
   "source": [
    "my_dict_1 = {\"1\": [1, 2], \"no\": [\"1\", \"2\"]}\n",
    "my_dict_2 = {\"1\": [1, 2], \"no\": [\"1\", \"2\"]}\n",
    "df_1 = pd.DataFrame(my_dict_1)\n",
    "df_2 = pd.DataFrame(my_dict_2)\n",
    "\n",
    "df_3 = df_2.merge(df_1, how=\"inner\", on=\"no\")\n",
    "df_3"
   ]
  },
  {
   "cell_type": "code",
   "execution_count": null,
   "id": "8839e375",
   "metadata": {},
   "outputs": [],
   "source": []
  }
 ],
 "metadata": {
  "kernelspec": {
   "display_name": "data-science-examples",
   "language": "python",
   "name": "python3"
  },
  "language_info": {
   "codemirror_mode": {
    "name": "ipython",
    "version": 3
   },
   "file_extension": ".py",
   "mimetype": "text/x-python",
   "name": "python",
   "nbconvert_exporter": "python",
   "pygments_lexer": "ipython3",
   "version": "3.13.6"
  }
 },
 "nbformat": 4,
 "nbformat_minor": 5
}
