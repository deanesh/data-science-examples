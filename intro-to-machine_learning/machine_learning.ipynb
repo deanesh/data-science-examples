{
 "cells": [
  {
   "cell_type": "markdown",
   "id": "c5993ebd",
   "metadata": {},
   "source": [
    "###### Machine Learning"
   ]
  },
  {
   "cell_type": "markdown",
   "id": "cc6ffc78",
   "metadata": {},
   "source": [
    "## Machine Learning\n",
    "\n",
    "This course focuses on **supervised machine learning**, particularly **regression problems** (predicting numeric values, like housing prices).\n",
    "\n",
    "---\n",
    "## 🧠 Key Concepts Covered\n",
    "\n",
    "##### 1. **What is Machine Learning?**\n",
    "\n",
    "* Teaches what ML is and how it’s used.\n",
    "* Focus on **models** that learn from data instead of hard-coded rules.\n",
    "##### 2. **Basic Data Exploration**\n",
    "\n",
    "* Using **pandas** to load and explore datasets (like housing data).\n",
    "* Learn about **features** and **targets**.\n",
    "* Handling missing values and categorical data.\n",
    "##### 3. **Your First Model**\n",
    "\n",
    "* Introduction to **Decision Trees**.\n",
    "* How to fit a model using `scikit-learn`.\n",
    "* Code example:\n",
    "\n",
    "```python\n",
    "from sklearn.tree import DecisionTreeRegressor\n",
    "model = DecisionTreeRegressor()\n",
    "model.fit(X, y)\n",
    "```\n",
    "\n",
    "##### 4. **Model Validation**\n",
    "\n",
    "* How to **evaluate** a model’s performance using **Mean Absolute Error (MAE)**.\n",
    "* Introduction to **train/test splits**.\n",
    "* Why you shouldn't evaluate on training data.\n",
    "\n",
    "```python\n",
    "from sklearn.metrics import mean_absolute_error\n",
    "predictions = model.predict(X_val)\n",
    "mae = mean_absolute_error(y_val, predictions)\n",
    "```\n",
    "\n",
    "##### 5. **Underfitting and Overfitting**\n",
    "\n",
    "* Underfitting: Model too simple.\n",
    "* Overfitting: Model too complex.\n",
    "* Trade-off between model complexity and generalization.\n",
    "\n",
    "##### 6. **Random Forests**\n",
    "\n",
    "* An **ensemble** method that builds many decision trees and averages their results.\n",
    "* More accurate and robust than a single decision tree.\n",
    "\n",
    "```python\n",
    "from sklearn.ensemble import RandomForestRegressor\n",
    "model = RandomForestRegressor()\n",
    "model.fit(X_train, y_train)\n",
    "```\n",
    "\n",
    "\n"
   ]
  },
  {
   "cell_type": "markdown",
   "id": "4671012a",
   "metadata": {},
   "source": []
  }
 ],
 "metadata": {
  "kernelspec": {
   "display_name": "data-science-examples",
   "language": "python",
   "name": "python3"
  },
  "language_info": {
   "codemirror_mode": {
    "name": "ipython",
    "version": 3
   },
   "file_extension": ".py",
   "mimetype": "text/x-python",
   "name": "python",
   "nbconvert_exporter": "python",
   "pygments_lexer": "ipython3",
   "version": "3.13.6"
  }
 },
 "nbformat": 4,
 "nbformat_minor": 5
}
