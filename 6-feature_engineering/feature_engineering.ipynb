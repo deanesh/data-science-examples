{
 "cells": [
  {
   "cell_type": "markdown",
   "id": "0ac9a223",
   "metadata": {},
   "source": [
    "#### 🧠 What is Feature Engineering?\n",
    "\n",
    "**Feature engineering** is the process of:\n",
    "\n",
    "* Selecting the most relevant variables (features)\n",
    "* Creating new features from existing ones\n",
    "* Transforming features to be more suitable for machine learning models\n",
    "\n",
    "It’s the art of **making your data more understandable to the model**.\n",
    "\n",
    "---\n",
    "\n",
    "#### 📘 What You’ll Learn in This Course\n",
    "\n",
    "#### 1. **Introduction to Feature Engineering**\n",
    "\n",
    "* What is a **feature**?\n",
    "* Why features matter more than the model in many cases.\n",
    "* Introduction to techniques for:\n",
    "\n",
    "  * Creating features\n",
    "  * Transforming features\n",
    "  * Selecting features\n",
    "\n",
    "---\n",
    "\n",
    "#### 2. **Baseline Model**\n",
    "\n",
    "* Create a **baseline model** using raw features to compare improvements later.\n",
    "* Example: Use a simple **Random Forest** without feature transformations.\n",
    "\n",
    "```python\n",
    "from sklearn.ensemble import RandomForestRegressor\n",
    "model = RandomForestRegressor()\n",
    "model.fit(X_train, y_train)\n",
    "```\n",
    "\n",
    "---\n",
    "\n",
    "#### 3. **Better Features for Tree Models**\n",
    "\n",
    "* Tree-based models (like Random Forests, XGBoost) don’t need feature scaling.\n",
    "* You’ll learn:\n",
    "\n",
    "  * How to handle **ordinal** vs **nominal** data\n",
    "  * Creating **interaction features** (e.g. multiplying or combining two columns)\n",
    "\n",
    "Example:\n",
    "\n",
    "```python\n",
    "data['price_per_sqft'] = data['price'] / data['square_feet']\n",
    "```\n",
    "\n",
    "---\n",
    "\n",
    "#### 4. **Numeric Transformations**\n",
    "\n",
    "* Transform numeric features to improve model performance:\n",
    "\n",
    "  * **Log transforms** to reduce skew\n",
    "  * **Scaling** (though less useful for trees)\n",
    "  * Handling outliers\n",
    "  * **Clipping** extreme values\n",
    "\n",
    "```python\n",
    "import numpy as np\n",
    "data['log_income'] = np.log(data['income'] + 1)\n",
    "```\n",
    "\n",
    "---\n",
    "\n",
    "#### 5. **Categorical Variables**\n",
    "\n",
    "* Categorical variables can be tricky. You’ll explore:\n",
    "\n",
    "  * One-hot encoding (works well with trees)\n",
    "  * Label encoding\n",
    "  * **Target encoding** (advanced; encode categories based on target value)\n",
    "  * Cardinality issues (too many unique categories)\n",
    "\n",
    "```python\n",
    "# One-hot encoding\n",
    "data = pd.get_dummies(data, columns=['neighborhood'])\n",
    "```\n",
    "\n",
    "---\n",
    "\n",
    "#### 6. **Feature Generation**\n",
    "\n",
    "* How to **create new features** from dates, text, and domain knowledge.\n",
    "* Examples:\n",
    "\n",
    "  * Extracting **day of week** from a date\n",
    "  * Counting **number of words** in a text\n",
    "  * Binning numeric variables into categories (e.g. age groups)\n",
    "\n",
    "```python\n",
    "data['year'] = data['date'].dt.year\n",
    "data['name_length'] = data['name'].apply(len)\n",
    "```\n",
    "\n",
    "---\n",
    "\n",
    "#### 7. **Feature Selection**\n",
    "\n",
    "* Not all features help — some hurt.\n",
    "* You’ll learn to:\n",
    "\n",
    "  * Use **correlation** and **importance scores** to drop useless features\n",
    "  * Use `Permutation Importance` to see how much each feature affects model performance\n",
    "\n",
    "```python\n",
    "from sklearn.inspection import permutation_importance\n",
    "results = permutation_importance(model, X_val, y_val)\n",
    "```\n",
    "\n",
    "---\n",
    "\n",
    "#### ✅ Skills You'll Gain\n",
    "\n",
    "* Create new, meaningful features from raw data\n",
    "* Transform features for better model learning\n",
    "* Use feature importance to prune or prioritize features\n",
    "* Improve model accuracy by using better input variables"
   ]
  },
  {
   "cell_type": "markdown",
   "id": "8f4d5bd6",
   "metadata": {
    "vscode": {
     "languageId": "plaintext"
    }
   },
   "source": [
    "#### Practice"
   ]
  },
  {
   "cell_type": "code",
   "execution_count": 3,
   "id": "c941e42e",
   "metadata": {},
   "outputs": [
    {
     "data": {
      "text/html": [
       "<div>\n",
       "<style scoped>\n",
       "    .dataframe tbody tr th:only-of-type {\n",
       "        vertical-align: middle;\n",
       "    }\n",
       "\n",
       "    .dataframe tbody tr th {\n",
       "        vertical-align: top;\n",
       "    }\n",
       "\n",
       "    .dataframe thead th {\n",
       "        text-align: right;\n",
       "    }\n",
       "</style>\n",
       "<table border=\"1\" class=\"dataframe\">\n",
       "  <thead>\n",
       "    <tr style=\"text-align: right;\">\n",
       "      <th></th>\n",
       "      <th>Age</th>\n",
       "      <th>Age_q4</th>\n",
       "    </tr>\n",
       "  </thead>\n",
       "  <tbody>\n",
       "    <tr>\n",
       "      <th>0</th>\n",
       "      <td>18</td>\n",
       "      <td>0</td>\n",
       "    </tr>\n",
       "    <tr>\n",
       "      <th>1</th>\n",
       "      <td>22</td>\n",
       "      <td>0</td>\n",
       "    </tr>\n",
       "    <tr>\n",
       "      <th>2</th>\n",
       "      <td>25</td>\n",
       "      <td>1</td>\n",
       "    </tr>\n",
       "    <tr>\n",
       "      <th>3</th>\n",
       "      <td>29</td>\n",
       "      <td>1</td>\n",
       "    </tr>\n",
       "    <tr>\n",
       "      <th>4</th>\n",
       "      <td>35</td>\n",
       "      <td>2</td>\n",
       "    </tr>\n",
       "    <tr>\n",
       "      <th>5</th>\n",
       "      <td>42</td>\n",
       "      <td>2</td>\n",
       "    </tr>\n",
       "    <tr>\n",
       "      <th>6</th>\n",
       "      <td>50</td>\n",
       "      <td>3</td>\n",
       "    </tr>\n",
       "    <tr>\n",
       "      <th>7</th>\n",
       "      <td>58</td>\n",
       "      <td>3</td>\n",
       "    </tr>\n",
       "  </tbody>\n",
       "</table>\n",
       "</div>"
      ],
      "text/plain": [
       "   Age  Age_q4\n",
       "0   18       0\n",
       "1   22       0\n",
       "2   25       1\n",
       "3   29       1\n",
       "4   35       2\n",
       "5   42       2\n",
       "6   50       3\n",
       "7   58       3"
      ]
     },
     "execution_count": 3,
     "metadata": {},
     "output_type": "execute_result"
    }
   ],
   "source": [
    "import pandas as pd\n",
    "\n",
    "df = pd.DataFrame({\"Age\": [18, 22, 25, 29, 35, 42, 50, 58]})\n",
    "df[\"Age_q4\"] = pd.qcut(df[\"Age\"], 4, labels=False)\n",
    "df"
   ]
  },
  {
   "cell_type": "markdown",
   "id": "46b928d4",
   "metadata": {},
   "source": [
    "#### Positive Skew"
   ]
  },
  {
   "cell_type": "code",
   "execution_count": 6,
   "id": "fff3ecd7",
   "metadata": {},
   "outputs": [
    {
     "data": {
      "image/png": "[encoded data removed]",
      "text/plain": [
       "<Figure size 640x480 with 1 Axes>"
      ]
     },
     "metadata": {},
     "output_type": "display_data"
    }
   ],
   "source": [
    "import numpy as np\n",
    "import matplotlib.pyplot as plt\n",
    "import seaborn as sns\n",
    "\n",
    "data = np.concatenate([np.random.normal(20, 5, 1000), np.random.exponential(10, 200)])\n",
    "\n",
    "sns.histplot(data, kde=True)\n",
    "plt.title(\"Positively Skewed Distribution\")\n",
    "plt.show()"
   ]
  },
  {
   "cell_type": "code",
   "execution_count": 15,
   "id": "98f34b03",
   "metadata": {},
   "outputs": [
    {
     "name": "stdout",
     "output_type": "stream",
     "text": [
      "numeric_cols are symmetric...\n"
     ]
    }
   ],
   "source": [
    "from sklearn.preprocessing import PowerTransformer\n",
    "from scipy.stats import skew\n",
    "\n",
    "# Select numeric columns\n",
    "numeric_cols = df.select_dtypes(include=[\"int64\", \"float64\"]).columns\n",
    "\n",
    "# Identify skewed columns\n",
    "skewed_cols = df[numeric_cols].apply(skew).abs()\n",
    "skewed_cols = skewed_cols[skewed_cols > 0.5].index  # moderate skew\n",
    "\n",
    "# Apply Yeo-Johnson only on skewed columns\n",
    "pt = PowerTransformer(method=\"yeo-johnson\")\n",
    "if skewed_cols is not None and not skewed_cols.empty:\n",
    "    df[skewed_cols] = pt.fit_transform(df[skewed_cols])\n",
    "else:\n",
    "    print(\"numeric_cols are symmetric...\")"
   ]
  },
  {
   "cell_type": "code",
   "execution_count": 8,
   "id": "74263711",
   "metadata": {},
   "outputs": [
    {
     "name": "stderr",
     "output_type": "stream",
     "text": [
      "\u001b[2mResolved \u001b[1m163 packages\u001b[0m \u001b[2min 6.11s\u001b[0m\u001b[0m\n",
      "   \u001b[36m\u001b[1mBuilding\u001b[0m\u001b[39m learn\u001b[2m==1.0.0\u001b[0m\n",
      "      \u001b[32m\u001b[1mBuilt\u001b[0m\u001b[39m learn\u001b[2m==1.0.0\u001b[0m\n",
      "\u001b[2mPrepared \u001b[1m2 packages\u001b[0m \u001b[2min 823ms\u001b[0m\u001b[0m\n",
      "\u001b[1m\u001b[33mwarning\u001b[39m\u001b[0m\u001b[1m:\u001b[0m \u001b[1mFailed to hardlink files; falling back to full copy. This may lead to degraded performance.\n",
      "         If the cache and target directories are on different filesystems, hardlinking may not be supported.\n",
      "         If this is intentional, set `export UV_LINK_MODE=copy` or use `--link-mode=copy` to suppress this warning.\u001b[0m\n",
      "\u001b[2mInstalled \u001b[1m2 packages\u001b[0m \u001b[2min 9ms\u001b[0m\u001b[0m\n",
      " \u001b[32m+\u001b[39m \u001b[1mlearn\u001b[0m\u001b[2m==1.0.0\u001b[0m\n",
      " \u001b[32m+\u001b[39m \u001b[1msci-kit\u001b[0m\u001b[2m==0.1.0\u001b[0m\n"
     ]
    }
   ],
   "source": [
    "!uv add sci-kit learn\n"
   ]
  },
  {
   "cell_type": "code",
   "execution_count": 9,
   "id": "fdaa7879",
   "metadata": {},
   "outputs": [
    {
     "name": "stderr",
     "output_type": "stream",
     "text": [
      "\u001b[2mResolved \u001b[1m167 packages\u001b[0m \u001b[2min 692ms\u001b[0m\u001b[0m\n",
      "\u001b[1m\u001b[33mwarning\u001b[39m\u001b[0m\u001b[1m:\u001b[0m \u001b[1mFailed to hardlink files; falling back to full copy. This may lead to degraded performance.\n",
      "         If the cache and target directories are on different filesystems, hardlinking may not be supported.\n",
      "         If this is intentional, set `export UV_LINK_MODE=copy` or use `--link-mode=copy` to suppress this warning.\u001b[0m\n",
      "\u001b[2mInstalled \u001b[1m4 packages\u001b[0m \u001b[2min 2.72s\u001b[0m\u001b[0m\n",
      " \u001b[32m+\u001b[39m \u001b[1mjoblib\u001b[0m\u001b[2m==1.5.2\u001b[0m\n",
      " \u001b[32m+\u001b[39m \u001b[1mscikit-learn\u001b[0m\u001b[2m==1.7.2\u001b[0m\n",
      " \u001b[32m+\u001b[39m \u001b[1mscipy\u001b[0m\u001b[2m==1.16.2\u001b[0m\n",
      " \u001b[32m+\u001b[39m \u001b[1mthreadpoolctl\u001b[0m\u001b[2m==3.6.0\u001b[0m\n"
     ]
    }
   ],
   "source": [
    "!uv add scikit-learn\n"
   ]
  },
  {
   "cell_type": "code",
   "execution_count": null,
   "id": "bccacf85",
   "metadata": {},
   "outputs": [],
   "source": []
  }
 ],
 "metadata": {
  "kernelspec": {
   "display_name": "data-science-examples",
   "language": "python",
   "name": "python3"
  },
  "language_info": {
   "codemirror_mode": {
    "name": "ipython",
    "version": 3
   },
   "file_extension": ".py",
   "mimetype": "text/x-python",
   "name": "python",
   "nbconvert_exporter": "python",
   "pygments_lexer": "ipython3",
   "version": "3.13.6"
  }
 },
 "nbformat": 4,
 "nbformat_minor": 5
}
