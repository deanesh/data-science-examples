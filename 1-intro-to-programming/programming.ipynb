{
 "cells": [
  {
   "cell_type": "markdown",
   "id": "0ce011ba",
   "metadata": {
    "vscode": {
     "languageId": "html"
    }
   },
   "source": [
    "### 🧠 **Course Basics - Python**\n",
    "This course focuses on **Python programming**, the most commonly used language in data science. \n",
    "\n",
    "#### **Key Topics Covered:**\n",
    "\n",
    "1. **Python Basics**\n",
    "\n",
    "* Variables and types, Arithmetic operations, Strings and printing, Comments and code clarity\n",
    "\n",
    "2. **Control Flow**\n",
    "\n",
    "* `if`, `elif`, `else` statements, Boolean logic (`and`, `or`, `not`), Comparison operators\n",
    "\n",
    "3. **Functions and Loops**\n",
    "\n",
    "* Writing and using functions, `for` and `while` loops, `range()` and `enumerate()`\n",
    "\n",
    "4. **Data Structures**\n",
    "\n",
    "* Lists, Tuples, Dictionaries\n",
    "\n",
    "5. **Using Libraries**\n",
    "\n",
    "* Brief intro to using libraries like `math`, How to import and use external code\n",
    "\n",
    "6. **Debugging and Best Practices**\n",
    "\n",
    "* Common errors and how to fix them, Writing readable and maintainable code\n",
    "\n"
   ]
  },
  {
   "cell_type": "markdown",
   "id": "c5993ebd",
   "metadata": {},
   "source": []
  },
  {
   "cell_type": "code",
   "execution_count": null,
   "id": "63fbd64e",
   "metadata": {},
   "outputs": [
    {
     "name": "stdout",
     "output_type": "stream",
     "text": [
      "(0, '1')\n",
      "(1, '2')\n",
      "....\n",
      "[1, 2, 3, 4, '1', '2', '3', '4', '5']\n",
      "....\n",
      "{0, 1, 2}\n"
     ]
    }
   ],
   "source": [
    "my_list = [1, 2, 3, 4]\n",
    "my_dict = {\"1\": 1, \"2\": 2}\n",
    "for i in enumerate(my_dict):\n",
    "    print(i)\n",
    "print(\"....\")\n",
    "\n",
    "\n",
    "i = 0\n",
    "while i < 5:\n",
    "    i = i + 1\n",
    "    my_list.append(str(i))\n",
    "print(my_list)\n",
    "print(\"....\")\n",
    "new_set = set()\n",
    "for i in range(3):\n",
    "    new_set.add(i)\n",
    "print(new_set)"
   ]
  },
  {
   "cell_type": "code",
   "execution_count": null,
   "id": "38f5e390",
   "metadata": {},
   "outputs": [],
   "source": []
  }
 ],
 "metadata": {
  "kernelspec": {
   "display_name": "data-science-examples",
   "language": "python",
   "name": "python3"
  },
  "language_info": {
   "codemirror_mode": {
    "name": "ipython",
    "version": 3
   },
   "file_extension": ".py",
   "mimetype": "text/x-python",
   "name": "python",
   "nbconvert_exporter": "python",
   "pygments_lexer": "ipython3",
   "version": "3.13.6"
  }
 },
 "nbformat": 4,
 "nbformat_minor": 5
}
